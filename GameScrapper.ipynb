{
 "cells": [
  {
   "cell_type": "code",
   "execution_count": 30,
   "metadata": {},
   "outputs": [
    {
     "name": "stderr",
     "output_type": "stream",
     "text": [
      "C:\\Users\\AQIB_C~1\\AppData\\Local\\Temp/ipykernel_9380/3902421068.py:5: DeprecationWarning: executable_path has been deprecated, please pass in a Service object\n",
      "  driver = webdriver.Edge(executable_path='C:\\msedgedriver.exe')\n"
     ]
    }
   ],
   "source": [
    "from selenium import webdriver\n",
    "from bs4 import BeautifulSoup\n",
    "import pandas as pd\n",
    "\n",
    "driver = webdriver.Edge(executable_path='C:\\msedgedriver.exe')\n",
    "Categories_url=[] #List to store category of the games\n",
    "GamePages_url = [] #List to store page url of the games\n",
    "\n",
    "\n",
    "driver.get(\"https://play.google.com/store/apps/category/GAME\")\n",
    "\n",
    "content = driver.page_source\n",
    "\n",
    "soup = BeautifulSoup(content)\n",
    "# print(soup)\n",
    "for a in soup.findAll('li',attrs={'class':'KZnDLd'}):\n",
    "    Category_url = a.find('a', attrs={'class':'r2Osbf'})\n",
    "    Categories_url.append(f\"https://play.google.com{Category_url.attrs['href']}\")\n",
    "\n",
    "for a in Categories_url:\n",
    "    driver.get(a)\n",
    "    content = driver.page_source\n",
    "    soup = BeautifulSoup(content)\n",
    "    for b in soup.findAll('a',attrs={'data-uitype':'290'}):\n",
    "        GamePages_url.append(f\"https://play.google.com{b.attrs['href']}\")\n",
    "\n",
    "df = pd.DataFrame({'GamePage_url':GamePages_url})\n",
    "df.to_csv('GamePages.csv', index=False, encoding='utf-8')\n"
   ]
  },
  {
   "cell_type": "code",
   "execution_count": null,
   "metadata": {},
   "outputs": [],
   "source": []
  }
 ],
 "metadata": {
  "interpreter": {
   "hash": "b09ff81fae83ea07921dd3f0814a60563f364585c8325c60fab9b3c71c7343f8"
  },
  "kernelspec": {
   "display_name": "Python 3.9.7 64-bit",
   "name": "python3"
  },
  "language_info": {
   "codemirror_mode": {
    "name": "ipython",
    "version": 3
   },
   "file_extension": ".py",
   "mimetype": "text/x-python",
   "name": "python",
   "nbconvert_exporter": "python",
   "pygments_lexer": "ipython3",
   "version": "3.9.7"
  },
  "orig_nbformat": 4
 },
 "nbformat": 4,
 "nbformat_minor": 2
}
