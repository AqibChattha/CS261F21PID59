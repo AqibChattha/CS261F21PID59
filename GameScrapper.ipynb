{
 "cells": [
  {
   "cell_type": "code",
   "execution_count": 1,
   "metadata": {},
   "outputs": [
    {
     "name": "stderr",
     "output_type": "stream",
     "text": [
      "C:\\Users\\AQIB_C~1\\AppData\\Local\\Temp/ipykernel_14344/1571474992.py:6: DeprecationWarning: executable_path has been deprecated, please pass in a Service object\n",
      "  driver = webdriver.Edge(executable_path='C:\\msedgedriver.exe')\n"
     ]
    },
    {
     "name": "stdout",
     "output_type": "stream",
     "text": [
      "Count by find=6 ---- Count in loop=6\n",
      "Count by find=20 ---- Count in loop=20\n",
      "Count by find=44 ---- Count in loop=44\n",
      "page not loaded\n"
     ]
    }
   ],
   "source": [
    "from selenium import webdriver\n",
    "from bs4 import BeautifulSoup\n",
    "import pandas as pd\n",
    "import time\n",
    "\n",
    "driver = webdriver.Edge(executable_path='C:\\msedgedriver.exe')\n",
    "Categories_url=[] #List to store category of the games\n",
    "GamePages_url = [] #List to store page url of the games\n",
    "\n",
    "\n",
    "# driver.get(\"https://play.google.com/store/apps/category/GAME\")\n",
    "\n",
    "# content = driver.page_source\n",
    "\n",
    "# soup = BeautifulSoup(content)\n",
    "# print(soup)\n",
    "# for a in soup.findAll('li',attrs={'class':'KZnDLd'}):\n",
    "#     Category_url = a.find('a', attrs={'class':'r2Osbf'})\n",
    "#     Categories_url.append(f\"https://play.google.com{Category_url.attrs['href']}\")\n",
    "\n",
    "# for a in Categories_url:\n",
    "#     driver.get(a)\n",
    "#     content = driver.page_source\n",
    "#     soup = BeautifulSoup(content)\n",
    "#     for b in soup.findAll('a',attrs={'data-uitype':'290'}):\n",
    "#         GamePages_url.append(f\"https://play.google.com{b.attrs['href']}\")\n",
    "# df = pd.DataFrame({'GamePage_url':GamePages_url})\n",
    "# df.to_csv('GamePages.csv', index=False, encoding='utf-8')\n",
    "df = pd.read_csv('GamePages.csv')\n",
    "list_url = df.GamePage_url.values.tolist()\n",
    "\n",
    "Category = []\n",
    "Image = []\n",
    "Name = []\n",
    "Developer = []\n",
    "Rating = []\n",
    "Price = []\n",
    "Game_link = []\n",
    "\n",
    "count_in_loop = 0\n",
    "count_by_Find = 0\n",
    "\n",
    "for a in list_url:\n",
    "    try:\n",
    "        driver.get(a)\n",
    "        time.sleep(5)\n",
    "        content = driver.page_source\n",
    "        soup = BeautifulSoup(content)\n",
    "        for b in soup.findAll('div',attrs={'class':'Vpfmgd'}):            \n",
    "            try:\n",
    "                # print(f\"Name={b.find('div',attrs={'class':'WsMG1c nnK0zc'}).attrs['title']}\\n\",\n",
    "                # f\"Developer={b.find('a',attrs={'class':'mnKHRc'}).attrs['text']}\\n\",\n",
    "                # f\"Rating={b.find('div',attrs={'role':'img'}).attrs['aria-label']}\\n\",\n",
    "                # f\"Game_link={b.find('a',attrs={'aria-hidden':'true'}).attrs['href']}\\n\",\n",
    "                # f\"Image={b.find('img',attrs={'class':'T75of QNCnCf'}).attrs['srcset']}\\n\"\n",
    "                # )\n",
    "                Name.append(b.find('div',attrs={'class':'WsMG1c nnK0zc'}).attrs['title'])\n",
    "                Game_link.append(b.find('a',attrs={'aria-hidden':'true'}).attrs['href'])\n",
    "                count_in_loop = count_in_loop + 1\n",
    "                driver.execute_script(\"window.scrollBy(0, 720)\")\n",
    "            except:\n",
    "                print('error')\n",
    "            \n",
    "        count_by_Find = count_by_Find + soup.findAll('div',attrs={'class':'Vpfmgd'}).__len__()\n",
    "        print(f\"Count by find={count_by_Find} ---- Count in loop={count_in_loop}\")\n",
    "    except:\n",
    "        print(\"page not loaded\")\n",
    "df = pd.DataFrame({'GameName':Name,'Game_link':Game_link})\n",
    "df.to_csv('GameNames.csv', index=False, encoding='utf-8')"
   ]
  },
  {
   "cell_type": "code",
   "execution_count": null,
   "metadata": {},
   "outputs": [],
   "source": []
  }
 ],
 "metadata": {
  "interpreter": {
   "hash": "b09ff81fae83ea07921dd3f0814a60563f364585c8325c60fab9b3c71c7343f8"
  },
  "kernelspec": {
   "display_name": "Python 3.9.7 64-bit",
   "name": "python3"
  },
  "language_info": {
   "codemirror_mode": {
    "name": "ipython",
    "version": 3
   },
   "file_extension": ".py",
   "mimetype": "text/x-python",
   "name": "python",
   "nbconvert_exporter": "python",
   "pygments_lexer": "ipython3",
   "version": "3.9.7"
  },
  "orig_nbformat": 4
 },
 "nbformat": 4,
 "nbformat_minor": 2
}
